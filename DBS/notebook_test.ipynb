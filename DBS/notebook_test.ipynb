{
 "cells": [
  {
   "cell_type": "code",
   "execution_count": 63,
   "metadata": {},
   "outputs": [
    {
     "name": "stdout",
     "output_type": "stream",
     "text": [
      "C:/Users/user/Desktop/DBS/GaN1\\DBS_GaN1_10800.Spe\n",
      "10093\n",
      "198\n",
      "198 14\n",
      "0.3612696201223814\n"
     ]
    }
   ],
   "source": [
    "import glob, os\n",
    "import numpy as np\n",
    "from scipy import integrate\n",
    "import matplotlib.pyplot as plt\n",
    "\n",
    "dir_path = 'C:/Users/user/Desktop/DBS/GaN1'\n",
    "DBS_files = glob.glob(os.path.join(dir_path, '*.Spe'))\n",
    "file_name = []\n",
    "\n",
    "linestyle = ['s-', '^-', '>-', 'o-', '-.', ':', '--', 'o-', 'o-']\n",
    "\n",
    "\n",
    "\n",
    "sample = DBS_files[0]\n",
    "print(sample)\n",
    "\n",
    "basename = os.path.splitext(os.path.basename(sample))[0]\n",
    "file_name.append(basename)\n",
    "f = open(sample, 'r')\n",
    "lines = f.readlines()\n",
    "DBS_data = []\n",
    "# starts at 13, ends at 16397\n",
    "for i in range(16397-13):\n",
    "    count = int(lines[i+12])\n",
    "    DBS_data.append(count)\n",
    "energy_fit = float(lines[16403].strip()[-8:])\n",
    "width = round(10/energy_fit)\n",
    "\n",
    "ann_peak = round(511/energy_fit)\n",
    "chn_num = np.arange(ann_peak-width, ann_peak+width+1) # np.arange는 마지막 성분-1 까지 만듬\n",
    "x_DBS = np.multiply(energy_fit, chn_num)\n",
    "photon_count = np.array(DBS_data[chn_num[0]:chn_num[-1]+1])\n",
    "y_flip = np.flip(photon_count)\n",
    "y_avg = np.divide(np.add(photon_count, y_flip), 2)\n",
    "y_err = np.sqrt(y_avg/2)\n",
    "y_normal = np.divide(y_avg, np.max(y_avg))\n",
    "y_normal_err = np.divide(y_err, np.max(y_avg))\n",
    "print(ann_peak)\n",
    "\n",
    "photon_energy = np.multiply(chn_num, energy_fit)\n",
    "\n",
    "peak_idx = np.where(abs(np.subtract(photon_energy,511))<(energy_fit/2))[0][0]\n",
    "print(peak_idx)\n",
    "\n",
    "s_width = round(0.7/energy_fit)\n",
    "print(width, s_width)\n",
    "\n",
    "if DBS_data[ann_peak]-photon_count[peak_idx] != 0:\n",
    "    print(\"warning, peak setting incorrect\")\n",
    "\n",
    "AUC_total = integrate.simps(photon_count[peak_idx-width:peak_idx+width],photon_energy[peak_idx-width:peak_idx+width])\n",
    "AUC_center = integrate.simps(photon_count[peak_idx-s_width:peak_idx+s_width],photon_energy[peak_idx-s_width:peak_idx+s_width])\n",
    "\n",
    "s_value = AUC_center/AUC_total\n",
    "\n",
    "print(s_value)"
   ]
  },
  {
   "cell_type": "code",
   "execution_count": 62,
   "metadata": {},
   "outputs": [
    {
     "name": "stdout",
     "output_type": "stream",
     "text": [
      "S_parameter of DBS_GaN1_10800:  0.3612696201223814\n"
     ]
    }
   ],
   "source": [
    "print(\"S_parameter of \"+basename+\": \", s_value)"
   ]
  }
 ],
 "metadata": {
  "kernelspec": {
   "display_name": "Python 3",
   "language": "python",
   "name": "python3"
  },
  "language_info": {
   "codemirror_mode": {
    "name": "ipython",
    "version": 3
   },
   "file_extension": ".py",
   "mimetype": "text/x-python",
   "name": "python",
   "nbconvert_exporter": "python",
   "pygments_lexer": "ipython3",
   "version": "3.6.8"
  }
 },
 "nbformat": 4,
 "nbformat_minor": 4
}
