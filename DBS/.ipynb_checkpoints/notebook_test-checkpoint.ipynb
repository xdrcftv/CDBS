{
 "cells": [
  {
   "cell_type": "code",
   "execution_count": 14,
   "metadata": {},
   "outputs": [],
   "source": [
    "import glob, os\n",
    "import numpy as np\n",
    "from scipy import integrate\n",
    "import matplotlib.pyplot as plt\n",
    "\n",
    "dir_path = 'C:/Users/user/Desktop/DBS/GaN1'\n",
    "DBS_files = glob.glob(os.path.join(dir_path, '*.Spe'))\n",
    "file_name = []\n",
    "\n",
    "linestyle = ['s-', '^-', '>-', 'o-', '-.', ':', '--', 'o-', 'o-']\n",
    "\n"
   ]
  },
  {
   "cell_type": "code",
   "execution_count": 16,
   "metadata": {},
   "outputs": [
    {
     "name": "stdout",
     "output_type": "stream",
     "text": [
      "C:/Users/user/Desktop/DBS/GaN1\\DBS_GaN1_10800.Spe\n"
     ]
    }
   ],
   "source": [
    "sample = DBS_files[0]\n",
    "print(sample)"
   ]
  },
  {
   "cell_type": "code",
   "execution_count": 19,
   "metadata": {},
   "outputs": [],
   "source": [
    "basename = os.path.splitext(os.path.basename(sample))[0]\n",
    "file_name.append(basename)\n",
    "f = open(file, 'r')\n",
    "lines = f.readlines()\n",
    "DBS_data = []\n",
    "# starts at 13, ends at 16397\n",
    "for i in range(16397-13):\n",
    "    count = int(lines[i+12])\n",
    "    DBS_data.append(count)\n",
    "energy_fit = float(lines[16403].strip()[-8:])\n",
    "width = round(10/energy_fit)\n",
    "\n",
    "ann_peak = round(511/energy_fit)\n",
    "chn_num = np.arange(ann_peak-width, ann_peak+width)\n",
    "x_DBS = np.multiply(energy_fit, chn_num)\n",
    "photon_count = np.array(DBS_data[chn_num[0]:chn_num[-1]])\n",
    "y_flip = np.flip(photon_count)\n",
    "y_avg = np.divide(np.add(photon_count, y_flip), 2)\n",
    "y_err = np.sqrt(y_avg/2)\n",
    "y_normal = np.divide(y_avg, np.max(y_avg))\n",
    "y_normal_err = np.divide(y_err, np.max(y_avg))"
   ]
  },
  {
   "cell_type": "code",
   "execution_count": 22,
   "metadata": {},
   "outputs": [],
   "source": [
    "photon_energy = np.multiply(chn_num, energy_fit)"
   ]
  },
  {
   "cell_type": "code",
   "execution_count": 53,
   "metadata": {},
   "outputs": [
    {
     "name": "stdout",
     "output_type": "stream",
     "text": [
      "198\n"
     ]
    }
   ],
   "source": [
    "peak_idx = np.where(abs(np.subtract(photon_energy,511))<(energy_fit/2))[0][0]\n",
    "print(peak_idx)"
   ]
  },
  {
   "cell_type": "code",
   "execution_count": 47,
   "metadata": {},
   "outputs": [
    {
     "name": "stdout",
     "output_type": "stream",
     "text": [
      "198 14\n"
     ]
    }
   ],
   "source": [
    "tot_width = round(10/energy_fit)\n",
    "if tot_width>peak_idx:\n",
    "    tot_width = peak_idx\n",
    "s_width = round(0.7/energy_fit)\n",
    "print(tot_width, s_width)"
   ]
  },
  {
   "cell_type": "code",
   "execution_count": 49,
   "metadata": {},
   "outputs": [
    {
     "ename": "TypeError",
     "evalue": "only integer scalar arrays can be converted to a scalar index",
     "output_type": "error",
     "traceback": [
      "\u001b[1;31m---------------------------------------------------------------------------\u001b[0m",
      "\u001b[1;31mTypeError\u001b[0m                                 Traceback (most recent call last)",
      "\u001b[1;32m<ipython-input-49-7d2dc3ee6ded>\u001b[0m in \u001b[0;36m<module>\u001b[1;34m\u001b[0m\n\u001b[1;32m----> 1\u001b[1;33m \u001b[0mAUC_total\u001b[0m \u001b[1;33m=\u001b[0m \u001b[0mintegrate\u001b[0m\u001b[1;33m.\u001b[0m\u001b[0msimps\u001b[0m\u001b[1;33m(\u001b[0m\u001b[0mphoton_count\u001b[0m\u001b[1;33m[\u001b[0m\u001b[0mpeak_idx\u001b[0m\u001b[1;33m-\u001b[0m\u001b[0mtot_width\u001b[0m\u001b[1;33m:\u001b[0m\u001b[0mpeak_idx\u001b[0m\u001b[1;33m+\u001b[0m\u001b[0mtot_width\u001b[0m\u001b[1;33m]\u001b[0m\u001b[1;33m,\u001b[0m\u001b[0mphoton_energy\u001b[0m\u001b[1;33m[\u001b[0m\u001b[0mpeak_idx\u001b[0m\u001b[1;33m-\u001b[0m\u001b[0mtot_width\u001b[0m\u001b[1;33m:\u001b[0m\u001b[0mpeak_idx\u001b[0m\u001b[1;33m+\u001b[0m\u001b[0mtot_width\u001b[0m\u001b[1;33m]\u001b[0m\u001b[1;33m)\u001b[0m\u001b[1;33m\u001b[0m\u001b[1;33m\u001b[0m\u001b[0m\n\u001b[0m\u001b[0;32m      2\u001b[0m \u001b[0mAUC_center\u001b[0m \u001b[1;33m=\u001b[0m \u001b[0mintegrate\u001b[0m\u001b[1;33m.\u001b[0m\u001b[0msimps\u001b[0m\u001b[1;33m(\u001b[0m\u001b[0mphoton_count\u001b[0m\u001b[1;33m[\u001b[0m\u001b[0mpeak_idx\u001b[0m\u001b[1;33m-\u001b[0m\u001b[0ms_width\u001b[0m\u001b[1;33m:\u001b[0m\u001b[0mpeak_idx\u001b[0m\u001b[1;33m+\u001b[0m\u001b[0ms_width\u001b[0m\u001b[1;33m]\u001b[0m\u001b[1;33m,\u001b[0m\u001b[0mphoton_energy\u001b[0m\u001b[1;33m[\u001b[0m\u001b[0mpeak_idx\u001b[0m\u001b[1;33m-\u001b[0m\u001b[0ms_width\u001b[0m\u001b[1;33m:\u001b[0m\u001b[0mpeak_idx\u001b[0m\u001b[1;33m+\u001b[0m\u001b[0ms_width\u001b[0m\u001b[1;33m]\u001b[0m\u001b[1;33m)\u001b[0m\u001b[1;33m\u001b[0m\u001b[1;33m\u001b[0m\u001b[0m\n",
      "\u001b[1;31mTypeError\u001b[0m: only integer scalar arrays can be converted to a scalar index"
     ]
    }
   ],
   "source": [
    "AUC_total = integrate.simps(photon_count[peak_idx-tot_width:peak_idx+tot_width],photon_energy[peak_idx-tot_width:peak_idx+tot_width])\n",
    "AUC_center = integrate.simps(photon_count[peak_idx-s_width:peak_idx+s_width],photon_energy[peak_idx-s_width:peak_idx+s_width])"
   ]
  }
 ],
 "metadata": {
  "kernelspec": {
   "display_name": "Python 3",
   "language": "python",
   "name": "python3"
  },
  "language_info": {
   "codemirror_mode": {
    "name": "ipython",
    "version": 3
   },
   "file_extension": ".py",
   "mimetype": "text/x-python",
   "name": "python",
   "nbconvert_exporter": "python",
   "pygments_lexer": "ipython3",
   "version": "3.6.8"
  }
 },
 "nbformat": 4,
 "nbformat_minor": 4
}
